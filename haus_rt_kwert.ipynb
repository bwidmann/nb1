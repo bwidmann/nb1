{
 "cells": [
  {
   "cell_type": "markdown",
   "metadata": {},
   "source": [
    "Laenge / Breite des Hauses   { Laenge: West<->Ost  Breite: Nord<->Sued }"
   ]
  },
  {
   "cell_type": "code",
   "execution_count": 74,
   "metadata": {
    "collapsed": true
   },
   "outputs": [],
   "source": [
    "Haus_L = 12\n",
    "Haus_B = 10\n",
    "Raum_H = 2.2"
   ]
  },
  {
   "cell_type": "markdown",
   "metadata": {},
   "source": [
    "Flaeche Aussenwand EG"
   ]
  },
  {
   "cell_type": "code",
   "execution_count": 75,
   "metadata": {
    "collapsed": false
   },
   "outputs": [
    {
     "name": "stdout",
     "output_type": "stream",
     "text": [
      "96.80000000000001\n"
     ]
    }
   ],
   "source": [
    "Wandflaeche_EG = 2 * Raum_H * (Haus_L + Haus_B) \n",
    "Wandflaeche_1S = Wandflaeche_EG\n",
    "print(Wandflaeche_EG)"
   ]
  },
  {
   "cell_type": "code",
   "execution_count": 76,
   "metadata": {
    "collapsed": true
   },
   "outputs": [],
   "source": [
    "DB_Innen_L = 7"
   ]
  },
  {
   "cell_type": "code",
   "execution_count": 77,
   "metadata": {
    "collapsed": false
   },
   "outputs": [],
   "source": [
    "Wandflaeche_DB_Nord_und_Sued = 2 * DB_Innen_L * Raum_H\n",
    "Wandflaeche_DB_Innenzwischen = 2 * Haus_B * Raum_H"
   ]
  },
  {
   "cell_type": "code",
   "execution_count": 78,
   "metadata": {
    "collapsed": false
   },
   "outputs": [],
   "source": [
    "Fenster_klein_Flaeche = 1.1 * 1.4\n",
    "Fenster_gross_Flaeche = 2.1 * 1.4\n",
    "Glastuer_flaeche = 1.1 * 2\n",
    "Eingangstuer_flaeche = 1.2 * 2"
   ]
  },
  {
   "cell_type": "code",
   "execution_count": 79,
   "metadata": {
    "collapsed": false
   },
   "outputs": [
    {
     "name": "stdout",
     "output_type": "stream",
     "text": [
      "19.32\n"
     ]
    }
   ],
   "source": [
    "Fenster_EG = 5 * Fenster_gross_Flaeche + 3 * Fenster_klein_Flaeche\n",
    "print(Fenster_EG)"
   ]
  },
  {
   "cell_type": "code",
   "execution_count": 80,
   "metadata": {
    "collapsed": false
   },
   "outputs": [
    {
     "name": "stdout",
     "output_type": "stream",
     "text": [
      "70.68\n"
     ]
    }
   ],
   "source": [
    "Mauerflaeche_EG = Wandflaeche_EG - Fenster_EG - 2 * Glastuer_flaeche - Eingangstuer_flaeche\n",
    "print(Mauerflaeche_EG)"
   ]
  },
  {
   "cell_type": "code",
   "execution_count": 81,
   "metadata": {
    "collapsed": false
   },
   "outputs": [
    {
     "name": "stdout",
     "output_type": "stream",
     "text": [
      "9.24\n",
      "6.6000000000000005\n"
     ]
    }
   ],
   "source": [
    "Fenster_1S = 6 * Fenster_klein_Flaeche\n",
    "print(Fenster_1S)\n",
    "Tueren_1S = 3 * Glastuer_flaeche\n",
    "print(Tueren_1S)"
   ]
  },
  {
   "cell_type": "code",
   "execution_count": 82,
   "metadata": {
    "collapsed": false
   },
   "outputs": [
    {
     "name": "stdout",
     "output_type": "stream",
     "text": [
      "80.96000000000002\n"
     ]
    }
   ],
   "source": [
    "Mauerflaeche_1S = Wandflaeche_1S - Fenster_1S - Tueren_1S\n",
    "print(Mauerflaeche_1S)"
   ]
  },
  {
   "cell_type": "code",
   "execution_count": 83,
   "metadata": {
    "collapsed": false
   },
   "outputs": [
    {
     "name": "stdout",
     "output_type": "stream",
     "text": [
      "26.180000000000003\n"
     ]
    }
   ],
   "source": [
    "Mauerflaeche_DB_NordSued = Wandflaeche_DB_Nord_und_Sued - 3 * Fenster_klein_Flaeche\n",
    "print(Mauerflaeche_DB_NordSued)"
   ]
  },
  {
   "cell_type": "code",
   "execution_count": 84,
   "metadata": {
    "collapsed": false
   },
   "outputs": [
    {
     "name": "stdout",
     "output_type": "stream",
     "text": [
      "8.08290376865476\n"
     ]
    }
   ],
   "source": [
    "import math\n",
    "Dachschraege_grad = 30\n",
    "L_Dachschraeg_DB_Innen = (DB_Innen_L / math.cos((Dachschraege_grad / 180) * math.pi))\n",
    "print(L_Dachschraeg_DB_Innen)"
   ]
  },
  {
   "cell_type": "code",
   "execution_count": 85,
   "metadata": {
    "collapsed": false
   },
   "outputs": [
    {
     "name": "stdout",
     "output_type": "stream",
     "text": [
      "80.8290376865476\n"
     ]
    }
   ],
   "source": [
    "DB_Innenraum_Dachflaeche = L_Dachschraeg_DB_Innen * Haus_B\n",
    "print(DB_Innenraum_Dachflaeche)"
   ]
  },
  {
   "cell_type": "code",
   "execution_count": 86,
   "metadata": {
    "collapsed": false
   },
   "outputs": [
    {
     "name": "stdout",
     "output_type": "stream",
     "text": [
      "50\n"
     ]
    }
   ],
   "source": [
    "DB_Betondecke_Seitenraum_Flaeche = (Haus_L - DB_Innen_L) * Haus_B\n",
    "print(DB_Betondecke_Seitenraum_Flaeche)"
   ]
  },
  {
   "cell_type": "code",
   "execution_count": 87,
   "metadata": {
    "collapsed": true
   },
   "outputs": [],
   "source": [
    "from collections import namedtuple\n",
    "FK = namedtuple('FK', ['name', 'f', 'k'])"
   ]
  },
  {
   "cell_type": "code",
   "execution_count": 88,
   "metadata": {
    "collapsed": false
   },
   "outputs": [],
   "source": [
    "flaechen_und_kwerte = [FK('mauer_EG', f=Mauerflaeche_EG, k=1),\n",
    "                      FK('fenster_EG', f=Fenster_EG, k=3),\n",
    "                      FK('Tueren_EG', f=(2 * Glastuer_flaeche + Eingangstuer_flaeche), k=3),\n",
    "                      FK('mauer_1S', f=Mauerflaeche_1S, k=1),\n",
    "                      FK('fenster_1S', f=Fenster_1S, k=3),\n",
    "                      FK('tueren_1S', f=Tueren_1S, k=3),\n",
    "                      FK('L_wand_DB', f=Wandflaeche_DB_Nord_und_Sued, k=1),\n",
    "                      FK('fenster_DB', f=(3 * Fenster_klein_Flaeche), k=3),\n",
    "                      FK('B_wand_DB', f=(2 * Haus_B * Raum_H), k=0.2),\n",
    "                      FK('Dach_innen_DB', f=DB_Innenraum_Dachflaeche, k=1.5),\n",
    "                      FK('Beton_Seite_DB', f=DB_Betondecke_Seitenraum_Flaeche, k=3.7)]"
   ]
  },
  {
   "cell_type": "code",
   "execution_count": 89,
   "metadata": {
    "collapsed": false
   },
   "outputs": [
    {
     "data": {
      "text/plain": [
       "[FK(name='mauer_EG', f=70.68, k=1),\n",
       " FK(name='fenster_EG', f=19.32, k=3),\n",
       " FK(name='Tueren_EG', f=6.800000000000001, k=3),\n",
       " FK(name='mauer_1S', f=80.96000000000002, k=1),\n",
       " FK(name='fenster_1S', f=9.24, k=3),\n",
       " FK(name='tueren_1S', f=6.6000000000000005, k=3),\n",
       " FK(name='L_wand_DB', f=30.800000000000004, k=1),\n",
       " FK(name='fenster_DB', f=4.62, k=3),\n",
       " FK(name='B_wand_DB', f=44.0, k=0.2),\n",
       " FK(name='Dach_innen_DB', f=80.8290376865476, k=1.5),\n",
       " FK(name='Beton_Seite_DB', f=50, k=3.7)]"
      ]
     },
     "execution_count": 89,
     "metadata": {},
     "output_type": "execute_result"
    }
   ],
   "source": [
    "flaechen_und_kwerte"
   ]
  },
  {
   "cell_type": "code",
   "execution_count": 90,
   "metadata": {
    "collapsed": false
   },
   "outputs": [
    {
     "data": {
      "text/plain": [
       "[('mauer_EG', 70.68),\n",
       " ('fenster_EG', 57.96),\n",
       " ('Tueren_EG', 20.400000000000002),\n",
       " ('mauer_1S', 80.96000000000002),\n",
       " ('fenster_1S', 27.72),\n",
       " ('tueren_1S', 19.8),\n",
       " ('L_wand_DB', 30.800000000000004),\n",
       " ('fenster_DB', 13.86),\n",
       " ('B_wand_DB', 8.8),\n",
       " ('Dach_innen_DB', 121.24355652982139),\n",
       " ('Beton_Seite_DB', 185.0)]"
      ]
     },
     "execution_count": 90,
     "metadata": {},
     "output_type": "execute_result"
    }
   ],
   "source": [
    "[(x.name, (x.f * x.k)) for x in flaechen_und_kwerte]"
   ]
  },
  {
   "cell_type": "code",
   "execution_count": 91,
   "metadata": {
    "collapsed": false
   },
   "outputs": [
    {
     "name": "stdout",
     "output_type": "stream",
     "text": [
      "637.2235565298215\n"
     ]
    }
   ],
   "source": [
    "gesamt_watt_pro_kelvin = sum([(x.f * x.k) for x in flaechen_und_kwerte])\n",
    "print(gesamt_watt_pro_kelvin)"
   ]
  },
  {
   "cell_type": "code",
   "execution_count": 97,
   "metadata": {
    "collapsed": false
   },
   "outputs": [
    {
     "name": "stdout",
     "output_type": "stream",
     "text": [
      "360\n"
     ]
    }
   ],
   "source": [
    "Kellerdecke_Flaeche = Haus_L * Haus_B\n",
    "k_Kellerdecke = 3\n",
    "keller_watt_pro_kelvin = Kellerdecke_Flaeche * k_Kellerdecke\n",
    "print(keller_watt_pro_kelvin)"
   ]
  },
  {
   "cell_type": "code",
   "execution_count": 112,
   "metadata": {
    "collapsed": false
   },
   "outputs": [
    {
     "data": {
      "text/plain": [
       "['t-A: -30  D-A: 48   t-K: 3.375 D-K: 14.625  Leistung: (30587, 5265, 35852)',\n",
       " 't-A: -25  D-A: 43   t-K: 4.0   D-K: 14.0    Leistung: (27401, 5040, 32441)',\n",
       " 't-A: -20  D-A: 38   t-K: 4.625 D-K: 13.375  Leistung: (24214, 4815, 29029)',\n",
       " 't-A: -15  D-A: 33   t-K: 5.25  D-K: 12.75   Leistung: (21028, 4590, 25618)',\n",
       " 't-A: -10  D-A: 28   t-K: 5.875 D-K: 12.125  Leistung: (17842, 4365, 22207)',\n",
       " 't-A: -5   D-A: 23   t-K: 6.5   D-K: 11.5    Leistung: (14656, 4140, 18796)',\n",
       " 't-A: 0    D-A: 18   t-K: 7.125 D-K: 10.875  Leistung: (11470, 3915, 15385)',\n",
       " 't-A: 5    D-A: 13   t-K: 7.75  D-K: 10.25   Leistung: (8284, 3690, 11974)',\n",
       " 't-A: 10   D-A: 8    t-K: 8.375 D-K: 9.625   Leistung: (5098, 3465, 8563)',\n",
       " 't-A: 15   D-A: 3    t-K: 9.0   D-K: 9.0     Leistung: (1912, 3240, 5152)']"
      ]
     },
     "execution_count": 112,
     "metadata": {},
     "output_type": "execute_result"
    }
   ],
   "source": [
    "Innen_T = 18\n",
    "Temp = namedtuple('Temp', ['aussen', 'keller', 'Delta_a', 'Delta_k'])\n",
    "def Temperaturen(at):\n",
    "    t_keller = (4 + (at + 25)/8)\n",
    "    return Temp(aussen=at, keller=t_keller,\\\n",
    "                Delta_a=(Innen_T - at), Delta_k=(Innen_T - t_keller))\n",
    "\n",
    "Aussen_T = range(-30, 16, 5)\n",
    "Temperatur_Serie = (Temperaturen(at) for at in Aussen_T)\n",
    "\n",
    "def Heizleistung(temp):\n",
    "    p1 = gesamt_watt_pro_kelvin * temp.Delta_a\n",
    "    p2 = keller_watt_pro_kelvin * temp.Delta_k\n",
    "    return (round(p1), round(p2), round(p1+p2))\n",
    "\n",
    "[\"t-A: {:<4} D-A: {:<4} t-K: {:<5} D-K: {:<6}  Leistung: {}\".format(\\\n",
    "    t.aussen, t.Delta_a,\\\n",
    "    t.keller, t.Delta_k, Heizleistung(t)) for t in Temperatur_Serie]\n",
    "\n"
   ]
  },
  {
   "cell_type": "code",
   "execution_count": null,
   "metadata": {
    "collapsed": true
   },
   "outputs": [],
   "source": []
  }
 ],
 "metadata": {
  "kernelspec": {
   "display_name": "Python 3",
   "language": "python",
   "name": "python3"
  },
  "language_info": {
   "codemirror_mode": {
    "name": "ipython",
    "version": 3
   },
   "file_extension": ".py",
   "mimetype": "text/x-python",
   "name": "python",
   "nbconvert_exporter": "python",
   "pygments_lexer": "ipython3",
   "version": "3.4.3"
  }
 },
 "nbformat": 4,
 "nbformat_minor": 0
}
